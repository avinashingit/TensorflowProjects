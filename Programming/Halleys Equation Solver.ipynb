{
 "cells": [
  {
   "cell_type": "code",
   "execution_count": 4,
   "metadata": {},
   "outputs": [],
   "source": [
    "import tensorflow as tf\n",
    "import numpy as np"
   ]
  },
  {
   "cell_type": "code",
   "execution_count": 29,
   "metadata": {},
   "outputs": [],
   "source": [
    "def functionVal(coeff, x):\n",
    "    f_val = coeff[0] + coeff[1] * x + coeff[2] * tf.pow(x, 2) + coeff[3] * tf.pow(x, 3) + coeff[4] * tf.pow(x, 4)\n",
    "    return f_val"
   ]
  },
  {
   "cell_type": "code",
   "execution_count": 37,
   "metadata": {},
   "outputs": [],
   "source": [
    "def functionDerivVal(coeff, x):\n",
    "    fd_val = coeff[1] + 2 * coeff[2] * x + 3 * coeff[3] * tf.pow(x, 2) + 4 * coeff[4] * tf.pow(x, 3)\n",
    "    return fd_val"
   ]
  },
  {
   "cell_type": "code",
   "execution_count": 38,
   "metadata": {},
   "outputs": [],
   "source": [
    "def getRoot(coeff, x_n):\n",
    "    numerator = 2 * functionVal(coeff, x_n) * functionDerivVal(coeff, x_n)\n",
    "    denominator = (2* tf.pow(functionDerivVal(coeff, x_n), 2)) - (functionVal(coeff, x_n) * functionDerivVal(coeff, x_n))\n",
    "    root = x_n - (numerator/denominator)\n",
    "    return root"
   ]
  },
  {
   "cell_type": "code",
   "execution_count": 55,
   "metadata": {},
   "outputs": [],
   "source": [
    "def execute():\n",
    "    coeff = tf.constant([16, 20, -52, 1, 15])\n",
    "    initial_root = tf.constant(-3)\n",
    "    next_root = getRoot(coeff, initial_root)\n",
    "    with tf.Session() as sess:\n",
    "        print(sess.run(next_root))"
   ]
  },
  {
   "cell_type": "code",
   "execution_count": 56,
   "metadata": {},
   "outputs": [
    {
     "name": "stdout",
     "output_type": "stream",
     "text": [
      "-2\n"
     ]
    }
   ],
   "source": [
    "execute()"
   ]
  },
  {
   "cell_type": "code",
   "execution_count": null,
   "metadata": {},
   "outputs": [],
   "source": []
  }
 ],
 "metadata": {
  "kernelspec": {
   "display_name": "Python 2",
   "language": "python",
   "name": "python2"
  },
  "language_info": {
   "codemirror_mode": {
    "name": "ipython",
    "version": 2
   },
   "file_extension": ".py",
   "mimetype": "text/x-python",
   "name": "python",
   "nbconvert_exporter": "python",
   "pygments_lexer": "ipython2",
   "version": "2.7.14"
  }
 },
 "nbformat": 4,
 "nbformat_minor": 2
}

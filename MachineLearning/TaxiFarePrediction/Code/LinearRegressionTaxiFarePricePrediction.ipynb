{
 "cells": [
  {
   "cell_type": "markdown",
   "metadata": {},
   "source": [
    "# Prediction of Taxi Fares using Linear Regression in Tensorflow"
   ]
  },
  {
   "cell_type": "markdown",
   "metadata": {},
   "source": [
    "### Import Libraries"
   ]
  },
  {
   "cell_type": "code",
   "execution_count": null,
   "metadata": {},
   "outputs": [],
   "source": [
    "import numpy as np\n",
    "import pandas as pd\n",
    "import tensorflow as tf"
   ]
  },
  {
   "cell_type": "markdown",
   "metadata": {},
   "source": [
    "### File paths"
   ]
  },
  {
   "cell_type": "code",
   "execution_count": 26,
   "metadata": {},
   "outputs": [],
   "source": [
    "train_data_file = \"../Data/taxi-train.csv\"\n",
    "valid_data_file = \"../Data/taxi-valid.csv\"\n",
    "test_data_file = \"../Data/taxi-test.csv\"\n",
    "\n",
    "output_dir = \"../Linear_output/\""
   ]
  },
  {
   "cell_type": "code",
   "execution_count": 3,
   "metadata": {},
   "outputs": [],
   "source": [
    "data_cols = ['fare_amount', 'pickuplon','pickuplat','dropofflon','dropofflat','passengers', 'key']\n",
    "predictors = data_cols[1:len(data_cols)-1]\n",
    "response = data_cols[0]"
   ]
  },
  {
   "cell_type": "markdown",
   "metadata": {},
   "source": [
    "### Training dataset"
   ]
  },
  {
   "cell_type": "code",
   "execution_count": 11,
   "metadata": {},
   "outputs": [],
   "source": [
    "train_df = pd.read_csv(train_data_file, header= None, names=data_cols)"
   ]
  },
  {
   "cell_type": "markdown",
   "metadata": {},
   "source": [
    "### Validation Dataset\n"
   ]
  },
  {
   "cell_type": "code",
   "execution_count": 12,
   "metadata": {},
   "outputs": [],
   "source": [
    "valid_df = pd.read_csv(valid_data_file, header = None, names = data_cols)"
   ]
  },
  {
   "cell_type": "markdown",
   "metadata": {},
   "source": [
    "### Training Input Function from Pandas"
   ]
  },
  {
   "cell_type": "code",
   "execution_count": 13,
   "metadata": {},
   "outputs": [],
   "source": [
    "def make_train_input_fn(df, epochs):\n",
    "    return tf.estimator.inputs.pandas_input_fn(x=df,\n",
    "                                               y=df[response],\n",
    "                                               batch_size=128,\n",
    "                                               num_epochs=epochs,\n",
    "                                               queue_capacity=1000,\n",
    "                                               shuffle=True,\n",
    "                                               num_threads = 1)\n"
   ]
  },
  {
   "cell_type": "markdown",
   "metadata": {},
   "source": [
    "### Validation Input Function from Pandas"
   ]
  },
  {
   "cell_type": "code",
   "execution_count": 24,
   "metadata": {},
   "outputs": [],
   "source": [
    "def make_prediction_input_fn(df, epochs):\n",
    "    return tf.estimator.inputs.pandas_input_fn(x = df,\n",
    "                                               y=None,\n",
    "                                               num_epochs=128,\n",
    "                                               num_threads=1,\n",
    "                                               batch_size=128,\n",
    "                                               queue_capacity=1000,\n",
    "                                               shuffle=True)"
   ]
  },
  {
   "cell_type": "markdown",
   "metadata": {},
   "source": [
    "### Declaring feature types"
   ]
  },
  {
   "cell_type": "code",
   "execution_count": 17,
   "metadata": {},
   "outputs": [],
   "source": [
    "def make_features():\n",
    "    input_cols = [tf.feature_column.numeric_column(X) for X in predictors]\n",
    "    return input_cols"
   ]
  },
  {
   "cell_type": "markdown",
   "metadata": {},
   "source": [
    "### Training Model"
   ]
  },
  {
   "cell_type": "code",
   "execution_count": 18,
   "metadata": {},
   "outputs": [
    {
     "name": "stdout",
     "output_type": "stream",
     "text": [
      "INFO:tensorflow:Using default config.\n",
      "INFO:tensorflow:Using config: {'_save_checkpoints_secs': 600, '_session_config': None, '_keep_checkpoint_max': 5, '_task_type': 'worker', '_is_chief': True, '_cluster_spec': <tensorflow.python.training.server_lib.ClusterSpec object at 0x7f33c37f9590>, '_save_checkpoints_steps': None, '_keep_checkpoint_every_n_hours': 10000, '_service': None, '_num_ps_replicas': 0, '_tf_random_seed': None, '_master': '', '_num_worker_replicas': 1, '_task_id': 0, '_log_step_count_steps': 100, '_model_dir': '../Output/', '_save_summary_steps': 100}\n"
     ]
    }
   ],
   "source": [
    "model = tf.estimator.LinearRegressor(feature_columns=make_features(), model_dir=output_dir)"
   ]
  },
  {
   "cell_type": "code",
   "execution_count": 20,
   "metadata": {},
   "outputs": [
    {
     "name": "stdout",
     "output_type": "stream",
     "text": [
      "INFO:tensorflow:Create CheckpointSaverHook.\n",
      "INFO:tensorflow:Saving checkpoints for 1 into ../Output/model.ckpt.\n",
      "INFO:tensorflow:loss = 28491.9, step = 1\n",
      "INFO:tensorflow:global_step/sec: 480.906\n",
      "INFO:tensorflow:loss = 13264.0, step = 101 (0.210 sec)\n",
      "INFO:tensorflow:global_step/sec: 551.643\n",
      "INFO:tensorflow:loss = 14127.4, step = 201 (0.181 sec)\n",
      "INFO:tensorflow:global_step/sec: 541.82\n",
      "INFO:tensorflow:loss = 8193.33, step = 301 (0.185 sec)\n",
      "INFO:tensorflow:global_step/sec: 548.147\n",
      "INFO:tensorflow:loss = 12835.9, step = 401 (0.184 sec)\n",
      "INFO:tensorflow:global_step/sec: 523.82\n",
      "INFO:tensorflow:loss = 6815.94, step = 501 (0.189 sec)\n",
      "INFO:tensorflow:global_step/sec: 541.659\n",
      "INFO:tensorflow:loss = 15158.9, step = 601 (0.185 sec)\n",
      "INFO:tensorflow:Saving checkpoints for 608 into ../Output/model.ckpt.\n",
      "INFO:tensorflow:Loss for final step: 33.7485.\n"
     ]
    },
    {
     "data": {
      "text/plain": [
       "<tensorflow.python.estimator.canned.linear.LinearRegressor at 0x7f3405b15250>"
      ]
     },
     "execution_count": 20,
     "metadata": {},
     "output_type": "execute_result"
    }
   ],
   "source": [
    "model.train(input_fn=make_train_input_fn(train_df, 10))"
   ]
  },
  {
   "cell_type": "markdown",
   "metadata": {},
   "source": [
    "### Function for finding Root Mean Square Error"
   ]
  },
  {
   "cell_type": "code",
   "execution_count": 22,
   "metadata": {},
   "outputs": [
    {
     "name": "stdout",
     "output_type": "stream",
     "text": [
      "INFO:tensorflow:Starting evaluation at 2018-06-17-15:53:42\n",
      "INFO:tensorflow:Restoring parameters from ../Output/model.ckpt-608\n",
      "INFO:tensorflow:Finished evaluation at 2018-06-17-15:53:42\n",
      "INFO:tensorflow:Saving dict for global step 608: average_loss = 82.4404, global_step = 608, loss = 10501.0\n",
      "RMSE on validation dataset 9.07966899872\n"
     ]
    }
   ],
   "source": [
    "def print_rmse(model, name, data):\n",
    "    metrics = model.evaluate(input_fn=make_train_input_fn(train_df, 1))\n",
    "    print 'RMSE on {} dataset {}'.format(name, np.sqrt(metrics['average_loss']))\n",
    "print_rmse(model, 'validation', valid_df)"
   ]
  },
  {
   "cell_type": "markdown",
   "metadata": {},
   "source": [
    "### Predictions on Validation dataset"
   ]
  },
  {
   "cell_type": "code",
   "execution_count": 25,
   "metadata": {},
   "outputs": [
    {
     "name": "stdout",
     "output_type": "stream",
     "text": [
      "INFO:tensorflow:Restoring parameters from ../Output/model.ckpt-608\n",
      "{'predictions': array([ 10.8259964], dtype=float32)}\n",
      "{'predictions': array([ 10.82671261], dtype=float32)}\n",
      "{'predictions': array([ 10.82732868], dtype=float32)}\n",
      "{'predictions': array([ 10.82853127], dtype=float32)}\n",
      "{'predictions': array([ 10.82573891], dtype=float32)}\n"
     ]
    }
   ],
   "source": [
    "predictions = model.predict(input_fn=make_prediction_input_fn(valid_df, 1))\n",
    "for i in xrange(5):\n",
    "    print(predictions.next())"
   ]
  }
 ],
 "metadata": {
  "kernelspec": {
   "display_name": "Python 2",
   "language": "python",
   "name": "python2"
  },
  "language_info": {
   "codemirror_mode": {
    "name": "ipython",
    "version": 2
   },
   "file_extension": ".py",
   "mimetype": "text/x-python",
   "name": "python",
   "nbconvert_exporter": "python",
   "pygments_lexer": "ipython2",
   "version": "2.7.14"
  }
 },
 "nbformat": 4,
 "nbformat_minor": 2
}

{
 "cells": [
  {
   "cell_type": "code",
   "execution_count": 1,
   "metadata": {},
   "outputs": [],
   "source": [
    "import numpy as np\n",
    "import pandas as pd\n",
    "import tensorflow as tf"
   ]
  },
  {
   "cell_type": "code",
   "execution_count": 10,
   "metadata": {},
   "outputs": [],
   "source": [
    "train_data_file = \"../Data/taxi-train.csv\"\n",
    "valid_data_file = \"../Data/taxi-valid.csv\"\n",
    "test_data_file = \"../Data/taxi-test.csv\"\n",
    "\n",
    "output_dir = \"../DNN_output/\""
   ]
  },
  {
   "cell_type": "code",
   "execution_count": 3,
   "metadata": {},
   "outputs": [],
   "source": [
    "data_cols = ['fare_amount', 'pickuplon','pickuplat','dropofflon','dropofflat','passengers', 'key']\n",
    "predictors = data_cols[1:len(data_cols)-1]\n",
    "response = data_cols[0]"
   ]
  },
  {
   "cell_type": "code",
   "execution_count": 4,
   "metadata": {},
   "outputs": [],
   "source": [
    "train_df = pd.read_csv(train_data_file, header= None, names=data_cols)"
   ]
  },
  {
   "cell_type": "code",
   "execution_count": 5,
   "metadata": {},
   "outputs": [],
   "source": [
    "valid_df = pd.read_csv(valid_data_file, header = None, names = data_cols)"
   ]
  },
  {
   "cell_type": "code",
   "execution_count": 6,
   "metadata": {},
   "outputs": [],
   "source": [
    "def make_train_input_fn(df, epochs):\n",
    "    return tf.estimator.inputs.pandas_input_fn(x=df,\n",
    "                                               y=df[response],\n",
    "                                               batch_size=128,\n",
    "                                               num_epochs=epochs,\n",
    "                                               queue_capacity=1000,\n",
    "                                               shuffle=True,\n",
    "                                               num_threads = 1)\n"
   ]
  },
  {
   "cell_type": "code",
   "execution_count": 7,
   "metadata": {},
   "outputs": [],
   "source": [
    "def make_prediction_input_fn(df, epochs):\n",
    "    return tf.estimator.inputs.pandas_input_fn(x = df,\n",
    "                                               y=None,\n",
    "                                               num_epochs=128,\n",
    "                                               num_threads=1,\n",
    "                                               batch_size=128,\n",
    "                                               queue_capacity=1000,\n",
    "                                               shuffle=True)"
   ]
  },
  {
   "cell_type": "code",
   "execution_count": 8,
   "metadata": {},
   "outputs": [],
   "source": [
    "def make_features():\n",
    "    input_cols = [tf.feature_column.numeric_column(X) for X in predictors]\n",
    "    return input_cols"
   ]
  },
  {
   "cell_type": "code",
   "execution_count": 11,
   "metadata": {},
   "outputs": [
    {
     "name": "stdout",
     "output_type": "stream",
     "text": [
      "INFO:tensorflow:Using default config.\n",
      "INFO:tensorflow:Using config: {'_save_checkpoints_secs': 600, '_session_config': None, '_keep_checkpoint_max': 5, '_task_type': 'worker', '_is_chief': True, '_cluster_spec': <tensorflow.python.training.server_lib.ClusterSpec object at 0x7fd79f60af50>, '_save_checkpoints_steps': None, '_keep_checkpoint_every_n_hours': 10000, '_service': None, '_num_ps_replicas': 0, '_tf_random_seed': None, '_master': '', '_num_worker_replicas': 1, '_task_id': 0, '_log_step_count_steps': 100, '_model_dir': '../DNN_output/', '_save_summary_steps': 100}\n"
     ]
    }
   ],
   "source": [
    "model = tf.estimator.DNNRegressor(feature_columns=make_features(), hidden_units=[32,8,2],model_dir=output_dir)"
   ]
  },
  {
   "cell_type": "code",
   "execution_count": 13,
   "metadata": {},
   "outputs": [
    {
     "name": "stdout",
     "output_type": "stream",
     "text": [
      "INFO:tensorflow:Create CheckpointSaverHook.\n",
      "INFO:tensorflow:Restoring parameters from ../DNN_output/model.ckpt-608\n",
      "INFO:tensorflow:Saving checkpoints for 609 into ../DNN_output/model.ckpt.\n",
      "INFO:tensorflow:loss = 12173.8, step = 609\n",
      "INFO:tensorflow:global_step/sec: 447.301\n",
      "INFO:tensorflow:loss = 7838.37, step = 709 (0.225 sec)\n",
      "INFO:tensorflow:global_step/sec: 498.716\n",
      "INFO:tensorflow:loss = 9793.85, step = 809 (0.203 sec)\n",
      "INFO:tensorflow:global_step/sec: 496.571\n",
      "INFO:tensorflow:loss = 9389.92, step = 909 (0.201 sec)\n",
      "INFO:tensorflow:global_step/sec: 500.716\n",
      "INFO:tensorflow:loss = 10946.2, step = 1009 (0.200 sec)\n",
      "INFO:tensorflow:global_step/sec: 462.116\n",
      "INFO:tensorflow:loss = 9935.36, step = 1109 (0.214 sec)\n",
      "INFO:tensorflow:global_step/sec: 463.45\n",
      "INFO:tensorflow:loss = 9455.61, step = 1209 (0.216 sec)\n",
      "INFO:tensorflow:global_step/sec: 502.467\n",
      "INFO:tensorflow:loss = 11522.0, step = 1309 (0.199 sec)\n",
      "INFO:tensorflow:global_step/sec: 488.074\n",
      "INFO:tensorflow:loss = 11533.9, step = 1409 (0.206 sec)\n",
      "INFO:tensorflow:global_step/sec: 486.031\n",
      "INFO:tensorflow:loss = 11303.1, step = 1509 (0.205 sec)\n",
      "INFO:tensorflow:global_step/sec: 484.377\n",
      "INFO:tensorflow:loss = 9751.02, step = 1609 (0.207 sec)\n",
      "INFO:tensorflow:global_step/sec: 495.268\n",
      "INFO:tensorflow:loss = 8136.83, step = 1709 (0.203 sec)\n",
      "INFO:tensorflow:global_step/sec: 423.526\n",
      "INFO:tensorflow:loss = 9548.26, step = 1809 (0.236 sec)\n",
      "INFO:tensorflow:global_step/sec: 482.065\n",
      "INFO:tensorflow:loss = 11394.2, step = 1909 (0.208 sec)\n",
      "INFO:tensorflow:global_step/sec: 503.099\n",
      "INFO:tensorflow:loss = 10856.5, step = 2009 (0.197 sec)\n",
      "INFO:tensorflow:global_step/sec: 476.193\n",
      "INFO:tensorflow:loss = 16869.5, step = 2109 (0.210 sec)\n",
      "INFO:tensorflow:global_step/sec: 462.312\n",
      "INFO:tensorflow:loss = 13001.6, step = 2209 (0.216 sec)\n",
      "INFO:tensorflow:global_step/sec: 508.875\n",
      "INFO:tensorflow:loss = 8543.78, step = 2309 (0.197 sec)\n",
      "INFO:tensorflow:global_step/sec: 489.995\n",
      "INFO:tensorflow:loss = 10057.0, step = 2409 (0.204 sec)\n",
      "INFO:tensorflow:global_step/sec: 391.863\n",
      "INFO:tensorflow:loss = 13168.6, step = 2509 (0.256 sec)\n",
      "INFO:tensorflow:global_step/sec: 428.645\n",
      "INFO:tensorflow:loss = 11661.4, step = 2609 (0.232 sec)\n",
      "INFO:tensorflow:global_step/sec: 405.055\n",
      "INFO:tensorflow:loss = 11159.2, step = 2709 (0.249 sec)\n",
      "INFO:tensorflow:global_step/sec: 410.139\n",
      "INFO:tensorflow:loss = 9181.53, step = 2809 (0.244 sec)\n",
      "INFO:tensorflow:global_step/sec: 426.196\n",
      "INFO:tensorflow:loss = 10593.1, step = 2909 (0.233 sec)\n",
      "INFO:tensorflow:global_step/sec: 484.893\n",
      "INFO:tensorflow:loss = 10481.1, step = 3009 (0.205 sec)\n",
      "INFO:tensorflow:global_step/sec: 493.359\n",
      "INFO:tensorflow:loss = 4418.55, step = 3109 (0.203 sec)\n",
      "INFO:tensorflow:global_step/sec: 502.137\n",
      "INFO:tensorflow:loss = 9927.99, step = 3209 (0.199 sec)\n",
      "INFO:tensorflow:global_step/sec: 442.707\n",
      "INFO:tensorflow:loss = 13511.9, step = 3309 (0.232 sec)\n",
      "INFO:tensorflow:global_step/sec: 380.69\n",
      "INFO:tensorflow:loss = 9020.08, step = 3409 (0.258 sec)\n",
      "INFO:tensorflow:global_step/sec: 498.552\n",
      "INFO:tensorflow:loss = 16188.2, step = 3509 (0.198 sec)\n",
      "INFO:tensorflow:global_step/sec: 388.51\n",
      "INFO:tensorflow:loss = 15847.7, step = 3609 (0.258 sec)\n",
      "INFO:tensorflow:global_step/sec: 489.997\n",
      "INFO:tensorflow:loss = 7431.79, step = 3709 (0.204 sec)\n",
      "INFO:tensorflow:global_step/sec: 484.299\n",
      "INFO:tensorflow:loss = 10913.9, step = 3809 (0.208 sec)\n",
      "INFO:tensorflow:global_step/sec: 417.503\n",
      "INFO:tensorflow:loss = 13226.2, step = 3909 (0.237 sec)\n",
      "INFO:tensorflow:global_step/sec: 421.211\n",
      "INFO:tensorflow:loss = 9777.7, step = 4009 (0.240 sec)\n",
      "INFO:tensorflow:global_step/sec: 492.3\n",
      "INFO:tensorflow:loss = 10336.5, step = 4109 (0.203 sec)\n",
      "INFO:tensorflow:global_step/sec: 403.216\n",
      "INFO:tensorflow:loss = 9363.45, step = 4209 (0.246 sec)\n",
      "INFO:tensorflow:global_step/sec: 453.9\n",
      "INFO:tensorflow:loss = 7052.81, step = 4309 (0.220 sec)\n",
      "INFO:tensorflow:global_step/sec: 482.107\n",
      "INFO:tensorflow:loss = 17778.0, step = 4409 (0.210 sec)\n",
      "INFO:tensorflow:global_step/sec: 397.137\n",
      "INFO:tensorflow:loss = 7887.4, step = 4509 (0.251 sec)\n",
      "INFO:tensorflow:global_step/sec: 510.002\n",
      "INFO:tensorflow:loss = 7342.08, step = 4609 (0.196 sec)\n",
      "INFO:tensorflow:global_step/sec: 497.221\n",
      "INFO:tensorflow:loss = 13683.4, step = 4709 (0.202 sec)\n",
      "INFO:tensorflow:global_step/sec: 468.386\n",
      "INFO:tensorflow:loss = 9301.78, step = 4809 (0.213 sec)\n",
      "INFO:tensorflow:global_step/sec: 479.186\n",
      "INFO:tensorflow:loss = 9678.8, step = 4909 (0.208 sec)\n",
      "INFO:tensorflow:global_step/sec: 491.669\n",
      "INFO:tensorflow:loss = 16806.6, step = 5009 (0.204 sec)\n",
      "INFO:tensorflow:global_step/sec: 510.301\n",
      "INFO:tensorflow:loss = 11814.5, step = 5109 (0.196 sec)\n",
      "INFO:tensorflow:global_step/sec: 483.169\n",
      "INFO:tensorflow:loss = 8256.94, step = 5209 (0.207 sec)\n",
      "INFO:tensorflow:global_step/sec: 477.639\n",
      "INFO:tensorflow:loss = 8389.8, step = 5309 (0.209 sec)\n",
      "INFO:tensorflow:global_step/sec: 492.237\n",
      "INFO:tensorflow:loss = 5259.45, step = 5409 (0.205 sec)\n",
      "INFO:tensorflow:global_step/sec: 491.152\n",
      "INFO:tensorflow:loss = 6381.31, step = 5509 (0.204 sec)\n",
      "INFO:tensorflow:global_step/sec: 472.454\n",
      "INFO:tensorflow:loss = 16269.1, step = 5609 (0.213 sec)\n",
      "INFO:tensorflow:global_step/sec: 472.836\n",
      "INFO:tensorflow:loss = 6100.32, step = 5709 (0.208 sec)\n",
      "INFO:tensorflow:global_step/sec: 475.441\n",
      "INFO:tensorflow:loss = 15137.7, step = 5809 (0.212 sec)\n",
      "INFO:tensorflow:global_step/sec: 493.722\n",
      "INFO:tensorflow:loss = 11748.9, step = 5909 (0.201 sec)\n",
      "INFO:tensorflow:global_step/sec: 476.438\n",
      "INFO:tensorflow:loss = 10510.5, step = 6009 (0.209 sec)\n",
      "INFO:tensorflow:global_step/sec: 487.952\n",
      "INFO:tensorflow:loss = 12825.6, step = 6109 (0.205 sec)\n",
      "INFO:tensorflow:global_step/sec: 446.028\n",
      "INFO:tensorflow:loss = 6431.15, step = 6209 (0.224 sec)\n",
      "INFO:tensorflow:global_step/sec: 436.962\n",
      "INFO:tensorflow:loss = 11062.7, step = 6309 (0.229 sec)\n",
      "INFO:tensorflow:global_step/sec: 495.855\n",
      "INFO:tensorflow:loss = 8415.61, step = 6409 (0.203 sec)\n",
      "INFO:tensorflow:global_step/sec: 498.616\n",
      "INFO:tensorflow:loss = 6917.24, step = 6509 (0.202 sec)\n",
      "INFO:tensorflow:global_step/sec: 462.129\n",
      "INFO:tensorflow:loss = 7907.33, step = 6609 (0.215 sec)\n",
      "INFO:tensorflow:Saving checkpoints for 6679 into ../DNN_output/model.ckpt.\n",
      "INFO:tensorflow:Loss for final step: 1689.88.\n"
     ]
    },
    {
     "data": {
      "text/plain": [
       "<tensorflow.python.estimator.canned.dnn.DNNRegressor at 0x7fd79f60aed0>"
      ]
     },
     "execution_count": 13,
     "metadata": {},
     "output_type": "execute_result"
    }
   ],
   "source": [
    "model.train(input_fn=make_train_input_fn(train_df, 100))"
   ]
  },
  {
   "cell_type": "code",
   "execution_count": 17,
   "metadata": {},
   "outputs": [],
   "source": [
    "def print_rmse(model, name, df):\n",
    "    metrics = model.evaluate(input_fn=make_train_input_fn(df, 1))\n",
    "    print 'RMSE on {} dataset {}'.format(name, np.sqrt(metrics['average_loss']))"
   ]
  },
  {
   "cell_type": "code",
   "execution_count": 18,
   "metadata": {},
   "outputs": [
    {
     "name": "stdout",
     "output_type": "stream",
     "text": [
      "INFO:tensorflow:Starting evaluation at 2018-06-17-16:02:53\n",
      "INFO:tensorflow:Restoring parameters from ../DNN_output/model.ckpt-6679\n",
      "INFO:tensorflow:Finished evaluation at 2018-06-17-16:02:53\n",
      "INFO:tensorflow:Saving dict for global step 6679: average_loss = 109.371, global_step = 6679, loss = 13007.3\n",
      "RMSE on validation dataset 10.4580440521\n"
     ]
    }
   ],
   "source": [
    "print_rmse(model, 'validation', valid_df)"
   ]
  },
  {
   "cell_type": "code",
   "execution_count": null,
   "metadata": {},
   "outputs": [],
   "source": []
  }
 ],
 "metadata": {
  "kernelspec": {
   "display_name": "Python 2",
   "language": "python",
   "name": "python2"
  },
  "language_info": {
   "codemirror_mode": {
    "name": "ipython",
    "version": 2
   },
   "file_extension": ".py",
   "mimetype": "text/x-python",
   "name": "python",
   "nbconvert_exporter": "python",
   "pygments_lexer": "ipython2",
   "version": "2.7.14"
  }
 },
 "nbformat": 4,
 "nbformat_minor": 2
}
